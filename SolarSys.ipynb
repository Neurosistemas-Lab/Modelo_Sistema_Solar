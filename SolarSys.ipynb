{
 "cells": [
  {
   "cell_type": "code",
   "execution_count": 1,
   "metadata": {},
   "outputs": [
    {
     "name": "stdout",
     "output_type": "stream",
     "text": [
      "Requirement already satisfied: pygame in c:\\users\\carlos\\anaconda3\\lib\\site-packages (2.1.2)\n"
     ]
    }
   ],
   "source": [
    "!pip install pygame\n"
   ]
  },
  {
   "cell_type": "code",
   "execution_count": null,
   "metadata": {},
   "outputs": [
    {
     "name": "stdout",
     "output_type": "stream",
     "text": [
      "pygame 2.1.2 (SDL 2.0.18, Python 3.9.7)\n",
      "Hello from the pygame community. https://www.pygame.org/contribute.html\n"
     ]
    }
   ],
   "source": [
    "import pygame,sys,time\n",
    "\n",
    "import numpy as np \n",
    "from pygame.locals import *\n",
    "\n",
    "#Variables de zoom y velocidad.\n",
    "ajuste=1\n",
    "ajusteD=1\n",
    "\n",
    "tiempito=0;\n",
    "TAM_SSX=1600;\n",
    "TAM_SSY=1000;\n",
    "\n",
    "pygame.init()\n",
    "sistema = pygame.display.set_mode((TAM_SSX,TAM_SSY))\n",
    "pygame.display.set_caption(\"Sistema Solar\")\n",
    "PosX_S,PosY_S=TAM_SSX/2-23,TAM_SSY/2-23\n",
    "\n",
    "#Importar Imagenes hechas en paint de los planetas\n",
    "Sol=pygame.image.load(\"Sun_00.png\")\n",
    "Tierra=pygame.image.load(\"Earth_00.png\")\n",
    "Luna=pygame.image.load(\"Moon_00.png\")\n",
    "Mercurio=pygame.image.load(\"Mercury_00.png\")\n",
    "Venus=pygame.image.load(\"Venus_00.png\")\n",
    "Marte=pygame.image.load(\"Mars_00.png\")\n",
    "Jupiter=pygame.image.load(\"Jupiter_00.png\")\n",
    "Saturno=pygame.image.load(\"Saturn_00.png\")\n",
    "Urano=pygame.image.load(\"Uranus_00.png\")\n",
    "Neptuno=pygame.image.load(\"Neptune_00.png\")\n",
    "\n",
    "\n",
    "#Tiempo en dias en el que se da una vuelta al sol (o a la tierra en el caso de la luna)\n",
    "TV=243\n",
    "TM=88\n",
    "TT=365.25\n",
    "TL=28.5\n",
    "TMa=687\n",
    "TJ=11.86*365.25\n",
    "TS=29.5*365.25\n",
    "TU=84*365.25\n",
    "TN=165*365.25 \n",
    "\n",
    "#Posiciones relativas \n",
    "PosX_T,PosY_T=0,0\n",
    "PosX_Me,PosY_Me=0,0\n",
    "PosX_V,PosY_V=0,0\n",
    "PosX_M,PosY_M=0,0\n",
    "PosX_Ma,PosY_Ma=0,0\n",
    "PosX_Ju,PosY_Ju=0,0\n",
    "PosX_Sa,PosY_Sa=0,0\n",
    "PosX_U,PosY_U=0,0\n",
    "PosX_N,PosY_N=0,0\n",
    "\n",
    "Fondo=(0,0,0)\n",
    "\n",
    "while True:\n",
    "    #Distancias al sol\n",
    "    DST=150/ajuste\n",
    "    DLT=20/ajuste #Esta debería ser 0.4/ajuste, pero si es así, la luna queda dentro de la tierra.\n",
    "    DSMe=60/ajuste\n",
    "    DSV=110/ajuste\n",
    "    DSMa=230/ajuste\n",
    "    DSJ=780/ajuste\n",
    "    DSS=1430/ajuste\n",
    "    DSU=2870/ajuste\n",
    "    DSN=4500/ajuste\n",
    "    \n",
    "    sistema.fill(Fondo)\n",
    "    sistema.blit(Sol,(PosX_S-10,PosY_S-10))\n",
    "    sistema.blit(Mercurio,(PosX_S+PosX_Me,PosY_S+PosY_Me))\n",
    "    sistema.blit(Venus,(PosX_S+PosX_V,PosY_S+PosY_V))\n",
    "    sistema.blit(Tierra,(PosX_S+PosX_T,PosY_S+PosY_T))\n",
    "    sistema.blit(Luna,(PosX_S+PosX_T+PosX_M,PosY_S+PosY_T+PosY_M))\n",
    "    sistema.blit(Marte,(PosX_S+PosX_Ma,PosY_S+PosY_Ma))\n",
    "    sistema.blit(Jupiter,(PosX_S+PosX_Ju,PosY_S+PosY_Ju))\n",
    "    sistema.blit(Saturno,(PosX_S+PosX_Sa,PosY_S+PosY_Sa))\n",
    "    sistema.blit(Urano,(PosX_S+PosX_U,PosY_S+PosY_U))\n",
    "    sistema.blit(Neptuno,(PosX_S+PosX_N,PosY_S+PosY_N))\n",
    "    \n",
    "    #presionar teclas flecha para zoom y x para cerrar\n",
    "    for evento in pygame.event.get():\n",
    "        if evento.type ==QUIT:\n",
    "            pygame.quit()\n",
    "            sys.exit()\n",
    "        elif evento.type == pygame.KEYDOWN:\n",
    "            if evento.key == K_LEFT:\n",
    "                ajusteD=ajusteD*2\n",
    "            elif evento.key == K_RIGHT:\n",
    "                ajusteD=ajusteD/2\n",
    "            elif evento.key == K_UP:\n",
    "                ajuste=ajuste*2\n",
    "            elif evento.key == K_DOWN:\n",
    "                ajuste=ajuste/2\n",
    "    \n",
    "    #Trigonometria de los planetas\n",
    "    PosX_T=DST*np.sin(tiempito)\n",
    "    PosY_T=DST*np.cos(tiempito)\n",
    "    \n",
    "    PosX_M=DLT*np.sin(tiempito*TT/TL)\n",
    "    PosY_M=DLT*np.cos(tiempito*TT/TL)\n",
    "    \n",
    "    PosX_Me=DSMe*np.sin(tiempito*TT/TM)\n",
    "    PosY_Me=DSMe*np.cos(tiempito*TT/TM)\n",
    "    \n",
    "    PosX_V=DSV*np.sin(tiempito*TT/TV)\n",
    "    PosY_V=DSV*np.cos(tiempito*TT/TV)\n",
    "    \n",
    "    PosX_Ma=DSMa*np.sin(tiempito*TT/TMa)\n",
    "    PosY_Ma=DSMa*np.cos(tiempito*TT/TMa)\n",
    "    \n",
    "    PosX_Ju=DSJ*np.sin(tiempito*TT/TJ)\n",
    "    PosY_Ju=DSJ*np.cos(tiempito*TT/TJ)\n",
    "        \n",
    "    PosX_Sa=DSS*np.sin(tiempito*TT/TS)\n",
    "    PosY_Sa=DSS*np.cos(tiempito*TT/TS)   \n",
    "    \n",
    "    PosX_U=DSU*np.sin(tiempito*TT/TU)\n",
    "    PosY_U=DSU*np.cos(tiempito*TT/TU)  \n",
    "    \n",
    "    PosX_N=DSN*np.sin(tiempito*TT/TN)\n",
    "    PosY_N=DSN*np.cos(tiempito*TT/TN)\n",
    "    \n",
    "    #Paso del tiempo\n",
    "    tiempito=ajusteD/TT+tiempito;\n",
    "    \n",
    "    #time.sleep(0.05)\n",
    "    pygame.display.update()"
   ]
  },
  {
   "cell_type": "code",
   "execution_count": null,
   "metadata": {},
   "outputs": [],
   "source": [
    "## Deberia haberse abierto una ventana nueva con el sistema solar funcionando"
   ]
  },
  {
   "cell_type": "code",
   "execution_count": null,
   "metadata": {},
   "outputs": [],
   "source": []
  },
  {
   "cell_type": "code",
   "execution_count": null,
   "metadata": {},
   "outputs": [],
   "source": []
  },
  {
   "cell_type": "code",
   "execution_count": null,
   "metadata": {},
   "outputs": [],
   "source": []
  }
 ],
 "metadata": {
  "kernelspec": {
   "display_name": "Python 3 (ipykernel)",
   "language": "python",
   "name": "python3"
  },
  "language_info": {
   "codemirror_mode": {
    "name": "ipython",
    "version": 3
   },
   "file_extension": ".py",
   "mimetype": "text/x-python",
   "name": "python",
   "nbconvert_exporter": "python",
   "pygments_lexer": "ipython3",
   "version": "3.9.7"
  }
 },
 "nbformat": 4,
 "nbformat_minor": 2
}
